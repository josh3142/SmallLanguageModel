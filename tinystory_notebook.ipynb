{
 "cells": [
  {
   "cell_type": "markdown",
   "id": "f96e30bc",
   "metadata": {},
   "source": [
    "# Inference\n",
    "To generate a simple story just provide to `prompt` how the story should start.\n",
    "\n",
    "To start the code, you have to load a checkpoint located at `checkpoint_path` and provide the corresponding model configuration in `model_config`."
   ]
  },
  {
   "cell_type": "code",
   "execution_count": 8,
   "id": "77230f6e",
   "metadata": {},
   "outputs": [],
   "source": [
    "prompt=\"Once upon a time, there was a little girl named Lucy. She loved to play\""
   ]
  },
  {
   "cell_type": "code",
   "execution_count": 9,
   "id": "9a9ce983",
   "metadata": {},
   "outputs": [],
   "source": [
    "from model.transformer import ModelConfig\n",
    "from generation.inference import Inference\n",
    "from tinystories_inference import get_checkpoint"
   ]
  },
  {
   "cell_type": "code",
   "execution_count": 10,
   "id": "beda69cf",
   "metadata": {},
   "outputs": [],
   "source": [
    "model_config = ModelConfig(\n",
    "    vocab_size=50257,\n",
    "    max_seq_len=256,\n",
    "    emb_dim=512,\n",
    "    n_layers=12,\n",
    "    n_heads=8,\n",
    "    dropout=0.1\n",
    ")\n",
    "device=\"cuda\"\n",
    "checkpoint_path = None\n",
    "max_tokens=500 # Maximum tokens to generate\n",
    "temperature=0.8 # Generation temperature\n",
    "top_k=50 # Top-k sampling (0 to disable)\n",
    "top_p=0 # Top-p sampling (0 to disable)"
   ]
  },
  {
   "cell_type": "code",
   "execution_count": 11,
   "id": "7eac6452",
   "metadata": {},
   "outputs": [
    {
     "name": "stdout",
     "output_type": "stream",
     "text": [
      "Checkpoint not found locally. Downloading from Hugging Face Hub...\n",
      "Downloaded checkpoint to /home/faller01/.cache/huggingface/hub/models--homunkulus--tinystories_small_gpt2/snapshots/abb5cd9f3f843114187bdccdfd08725950f5985b/checkpoint_epoch_10.pth\n",
      "Loading model from /home/faller01/.cache/huggingface/hub/models--homunkulus--tinystories_small_gpt2/snapshots/abb5cd9f3f843114187bdccdfd08725950f5985b/checkpoint_epoch_10.pth\n",
      "Model loaded with 63,692,288 parameters\n",
      "Checkpoint at epoch 10, step 814620\n"
     ]
    }
   ],
   "source": [
    "inference = Inference.load_from_checkpoint(\n",
    "        checkpoint_path=get_checkpoint(checkpoint_path), \n",
    "        device=device\n",
    "    )"
   ]
  },
  {
   "cell_type": "code",
   "execution_count": 12,
   "id": "11179500",
   "metadata": {},
   "outputs": [
    {
     "name": "stdout",
     "output_type": "stream",
     "text": [
      "Once upon a time, there was a little girl named Lucy. She loved to play outside and explore the world around her. One day, she found a big stick on the ground. She picked it up and thought it was very interesting.\n",
      "\n",
      "Lucy took the stick home and put it on her desk. Every day, she would look at it and think about what she could do with it. She thought about how to make a pretend house, a spaceship, or a spaceship. She always made sure to put the stick on top of her chair to make it safe.\n",
      "\n",
      "One day, Lucy's friend, Tom, came over to play. Tom saw the stick and thought it was cool too. They both played with their stick and pretended to be people in a real spaceship. Lucy and Tom had lots of fun playing with their stick and pretending to be there on the ground.\n",
      "\n",
      "Perplexity of text: 2.306816433868815\n"
     ]
    }
   ],
   "source": [
    "generated = inference.generate(\n",
    "    prompt,\n",
    "    max_new_tokens=max_tokens,\n",
    "    temperature=temperature,\n",
    "    top_k=top_k if top_k > 0 else None,\n",
    "    top_p=top_p,\n",
    ")\n",
    "print(generated)\n",
    "print(f\"\\nPerplexity of text: {inference.get_perplexity(generated)}\")"
   ]
  },
  {
   "cell_type": "code",
   "execution_count": null,
   "id": "5ff2e24b",
   "metadata": {},
   "outputs": [],
   "source": []
  }
 ],
 "metadata": {
  "kernelspec": {
   "display_name": "TinyStories",
   "language": "python",
   "name": "python3"
  },
  "language_info": {
   "codemirror_mode": {
    "name": "ipython",
    "version": 3
   },
   "file_extension": ".py",
   "mimetype": "text/x-python",
   "name": "python",
   "nbconvert_exporter": "python",
   "pygments_lexer": "ipython3",
   "version": "3.12.11"
  }
 },
 "nbformat": 4,
 "nbformat_minor": 5
}
